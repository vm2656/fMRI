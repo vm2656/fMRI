{
 "cells": [
  {
   "cell_type": "markdown",
   "metadata": {},
   "source": [
    "# Coresests\n",
    "\n",
    "## Intro\n",
    "The notion of **coresets** originates from computational geometry and refers to data summarization with strong theoretical guarantees. Coresets are gaining attention in the machine learning community: they allow to run expensive algorithms on a small subset of the data with error guarantees - this feature makes them the preferred choice over randomly created subsamples of the data. \n",
    "\n",
    "In the standard learning setting, we fit a model that explains a given data set $\\mathbf{X}=\\{x_1,...,x_n\\}$. For this, the model is parametrized by $Q$ (usually called *query* in the coreset literature) that belongs to a family of  parameters $\\mathcal{Q}$. Then, a particular parameter is chosen such that it minimizes a cost function, i.e.:\n",
    "$$\\min_{Q \\in \\mathcal{Q}} \\sum_{i=1}^n \\textrm{cost}(x_i, Q).$$ \n",
    "\n",
    "When the dataset is large, then the optimization and the storage become very costly. The idea is to find a weighted subset of points of size $m \\ll n$,  $\\mathbf{C}=\\{(c_1,w_1)...,(c_m, w_m)\\}$ where $c_i$ are points from the data set and $w_i$ are their weights, such that the optimization problem now is performed on this new set $\\mathbf{C}$:\n",
    "$$\\min_{Q \\in \\mathcal{Q}} \\sum_{i=1}^m w_i \\textrm{cost}(c_i, Q).$$\n",
    "\n",
    "If the following holds for $\\mathbf{C}$ with high probability, the following inequality holds: \n",
    "$$ \\left| \\sum_{i=1}^n \\textrm{cost}(x_i, Q) -   \\sum_{i=1}^m w_i \\textrm{cost}(c_i, Q)\\right| \\leq \\varepsilon  \\sum_{i=1}^n \\textrm{cost}(x_i, Q),\\quad \\forall Q \\in \\mathcal{Q}.$$ \n",
    "then we call $\\mathbf{C}$ a coreset.\n",
    "In words, the total cost evaluated on the coreset points is $\\varepsilon$-multiplicatively close to the total cost evaluated at all points *uniformly* for all parameters (or queries). This means that we can solve the problem on the coreset without incurring too much error.\n",
    "\n",
    "Let us consider a few examples. In k-Means the queries are the centers and the objective is the squared euclidean distance to the closest center, in a neural network for a classification task the queries are the weights and the cost the negative log-likelihood. The coreset property states that no matter what centers we choose for k-Means, or what weights we choose for neural nets, the total distance to the closest centers, respectively, the negative log likelihood calculated on the coreset are close to the true values. Importantly, this is also the case at the optimal parameters, which justifies the optimization on the coreset.\n",
    "\n",
    "There are some aspects of coresets that we skipped in this short intro. For a lenghtier intro to coresets, please refer to:\n",
    "\n",
    ">Bachem, O., Lucic, M., & Krause, A. (2017). \n",
    ">Practical coreset constructions for machine learning. \n",
    ">arXiv preprint arXiv:1703.06476.\n",
    "\n",
    "\n",
    "Coresets are inherently problem specific and require two ingredients: constructing the weighted subsample and extending algorithms to handle the weighted data. In this tutorial, we will see how to create and use coresets for some basic models relying on the coreset library. \n",
    "\n",
    "## Coreset Library\n",
    "\n",
    "The coreset library implements efficient coreset generation for\n",
    "* k-Means\n",
    "* Gaussian mixture models (GMM)\n",
    "* Bayesian Gaussian mixture models (BGMM)\n",
    "* Dirichlet process Gaussian mixture models (DPGMM)\n",
    "\n",
    "and also provides the adapted version of these algorithms to support weighted data. This tutorial showcases the usage of the library and illustrates the principal techniques of working with coresets.\n",
    "\n",
    "### References\n",
    "The implementation of the library is based on the following works:\n",
    ">Bachem, O., Lucic, M., & Krause, A. (2017). Practical coreset constructions for machine learning. arXiv preprint arXiv:1703.06476.\n",
    "\n",
    "> Bachem, O., Lucic, M., & Krause, A. (2017). Scalable and distributed clustering via lightweight coresets. arXiv preprint arXiv:1702.08248.\n",
    "\n",
    ">Lucic, M., Faulkner, M., Krause, A., & Feldman, D. (2018). Training Gaussian Mixture Models at Scale via Coresets. Journal of Machine Learning Research, 18, Art-No.\n",
    "\n",
    "> Borsos, Z., Bachem, O., & Krause, A. Variational Inference for DPGMM with Coresets. (2017). Advances in Approximate Bayesian Inference"
   ]
  },
  {
   "cell_type": "markdown",
   "metadata": {},
   "source": [
    "## Tutorial"
   ]
  },
  {
   "cell_type": "markdown",
   "metadata": {},
   "source": [
    "### k-Means\n",
    "In this part, we will look at applying coresets to k-Means. First, let us generate some data for clustering. We will do this with the [Chinese restaurant process](https://en.wikipedia.org/wiki/Chinese_restaurant_process)."
   ]
  },
  {
   "cell_type": "code",
   "execution_count": 27,
   "metadata": {
    "tags": []
   },
   "outputs": [],
   "source": [
    "from __future__ import division\n",
    "%matplotlib inline\n",
    "import numpy as np\n",
    "import matplotlib.pyplot as plt\n",
    "import os\n",
    "import sys\n",
    "module_path = os.path.abspath(os.path.join('..'))\n",
    "if module_path not in sys.path:\n",
    "    sys.path.append(module_path)\n",
    "np.random.seed(42)\n",
    "from utils import datagen, plotting\n",
    "import coresets\n",
    "import algorithms\n"
   ]
  },
  {
   "cell_type": "code",
   "execution_count": 2,
   "metadata": {
    "tags": []
   },
   "outputs": [],
   "source": [
    "n = 1000\n",
    "# X, true_k, assignment = datagen.crp(n=n, alpha=5)"
   ]
  },
  {
   "cell_type": "markdown",
   "metadata": {},
   "source": [
    "We plot the generated dataset together with the cluster assignments."
   ]
  },
  {
   "cell_type": "markdown",
   "metadata": {},
   "source": [
    "If we cluster the data with $k=10$ centers, we get the following result:"
   ]
  },
  {
   "cell_type": "code",
   "execution_count": 15,
   "metadata": {},
   "outputs": [],
   "source": [
    "import torchvision\n",
    "import torchvision.datasets as datasets\n",
    "mnist_trainset = datasets.MNIST(root='./data', train=True, download=True, transform=None)\n",
    "mnist_testset = datasets.MNIST(root='./data', train=False, download=True, transform=None)\n",
    "mnist_trainset.data = mnist_trainset.data.reshape(60000,784)\n",
    "mnist_testset.data = mnist_testset.data.reshape(10000,784)"
   ]
  },
  {
   "cell_type": "code",
   "execution_count": 16,
   "metadata": {},
   "outputs": [],
   "source": [
    "train_set_array = mnist_trainset.data.numpy()\n",
    "test_set_array = mnist_testset.data.numpy()\n",
    "X = train_set_array[:1000]\n",
    "y = test_set_array[:1000]"
   ]
  },
  {
   "cell_type": "code",
   "execution_count": 17,
   "metadata": {},
   "outputs": [
    {
     "data": {
      "text/plain": [
       "dtype('float64')"
      ]
     },
     "execution_count": 17,
     "metadata": {},
     "output_type": "execute_result"
    }
   ],
   "source": [
    "X = X.astype(float)\n",
    "y = y.astype(float)\n",
    "X[0].dtype"
   ]
  },
  {
   "cell_type": "code",
   "execution_count": 6,
   "metadata": {},
   "outputs": [
    {
     "name": "stdout",
     "output_type": "stream",
     "text": [
      "Total k-Means cost: 2395258194.48\n"
     ]
    }
   ],
   "source": [
    "k = 10\n",
    "km = algorithms.WeightedKMeans(n_clusters=k, n_iter=10)\n",
    "km.fit(X)\n",
    "y,dists = km.predict(X)\n",
    "plotting.plot_2d_points_with_assignment(X, y)\n",
    "print(\"Total k-Means cost: {}\".format(np.sum(dists)))"
   ]
  },
  {
   "cell_type": "markdown",
   "metadata": {},
   "source": [
    "In theory, the coresets gurantees hold for a specific subset size. In practice, we determine the coreset size based on the amount of data we are capable of working with. Suppose we can only afford to run k-Means on 1% of the original data. The first idea is to randomly subsample the data and fit k-Means on it."
   ]
  },
  {
   "cell_type": "code",
   "execution_count": 7,
   "metadata": {
    "scrolled": true
   },
   "outputs": [],
   "source": [
    "coreset_size = int(n * 0.01)\n",
    "uniform_coreset_gen = coresets.KMeansUniformCoreset(X)\n",
    "C_u, w_u = uniform_coreset_gen.generate_coreset(coreset_size)\n",
    "# plotting.plot_2d_points_and_coreset(X, C_u, w_u)"
   ]
  },
  {
   "cell_type": "markdown",
   "metadata": {},
   "source": [
    "The red stars indicate selected coreset points. Since we are selecting points randomly, we are not going to represent smaller clusters with high probability. Next, we will see that this issue is remedied by using coresets. "
   ]
  },
  {
   "cell_type": "code",
   "execution_count": 8,
   "metadata": {},
   "outputs": [],
   "source": [
    "km_coreset_gen = coresets.KMeansCoreset(X)\n",
    "C1, w1 = km_coreset_gen.generate_coreset(coreset_size)\n",
    "# plotting.plot_2d_points_and_coreset(X, C1, w1)"
   ]
  },
  {
   "cell_type": "markdown",
   "metadata": {},
   "source": [
    "Ultimately, we are interested in the k-Means cost after fitting the model."
   ]
  },
  {
   "cell_type": "code",
   "execution_count": 9,
   "metadata": {},
   "outputs": [
    {
     "name": "stdout",
     "output_type": "stream",
     "text": [
      "k-Means cost on full data: 2398548720.77\n",
      "k-Means cost on uniform: 4570229012.0\n",
      "k-Means cost on coreset: 4497271613.0\n"
     ]
    }
   ],
   "source": [
    "for C, w, name in [(X, np.ones(X.shape[0]), 'full data'), (C_u, w_u, 'uniform'), (C1, w1, 'coreset')]:\n",
    "    km.fit(C, w)\n",
    "    y, dists = km.predict(X)\n",
    "    print(\"k-Means cost on {}: {}\".format(name, np.sum(dists)))"
   ]
  },
  {
   "cell_type": "markdown",
   "metadata": {},
   "source": [
    "Coresets produce convincing approximations to the full cost, even if they represent only 1% of the data. Uniform subsampling, on the other hand has a large margin of error."
   ]
  },
  {
   "cell_type": "markdown",
   "metadata": {},
   "source": [
    "### Computational costs\n",
    "\n",
    "The default coreset generation method for k-Means, $\\texttt{coresets.KMeansCoreset}$ relies on a $\\texttt{k-means++}$ seeding step, which can be costly in itself, namely $\\mathcal{O}(nkd)$, where $d$ is the dimension of the data - this is equivalent to 1 step of k-Means. Fortunately, there is a faster alternative to seeding:\n",
    "\n",
    ">Fast and Provably Good Seedings for k-Means. Olivier Bachem, Mario Lucic, S. Hamed Hassani and Andreas Krause. To appear in Neural Information Processing Systems (NIPS), 2016.\n",
    "\n",
    "The implementation is available at https://github.com/obachem/kmc2 and also in Tensorflow https://www.tensorflow.org/api_docs/python/tf/contrib/learn/KMeansClustering. \n",
    "\n",
    "We will illustrate is usage for coresets. In order to install the library, run:\n",
    ">pip install kmc2"
   ]
  },
  {
   "cell_type": "code",
   "execution_count": 10,
   "metadata": {},
   "outputs": [
    {
     "name": "stdout",
     "output_type": "stream",
     "text": [
      "k-Means cost on coreset with kmc seeding: 4578837812.0\n"
     ]
    }
   ],
   "source": [
    "import kmc2\n",
    "seeding = kmc2.kmc2(X, k)\n",
    "\n",
    "km_coreset_gen_kmc = coresets.KMeansCoreset(X, init=seeding)\n",
    "C2, w2 = km_coreset_gen_kmc.generate_coreset(coreset_size)\n",
    "# plotting.plot_2d_points_and_coreset(X, C2, w2)\n",
    "km.fit(C2, w2)\n",
    "y, dists = km.predict(X)\n",
    "print(\"k-Means cost on coreset with kmc seeding: {}\".format(np.sum(dists)))"
   ]
  },
  {
   "cell_type": "markdown",
   "metadata": {},
   "source": [
    "### Streaming and distributed settings"
   ]
  },
  {
   "cell_type": "markdown",
   "metadata": {},
   "source": [
    "Another advantage of coresets is that they can handle streaming and distributed data. This is possible due to the following two observations:\n",
    "* merge: if $C_1$ is an $\\varepsilon$-coreset of $X_1$ and $C_2$ is an $\\varepsilon$-coreset of $X_2$, then $C_1 \\cup C_2$ is an $\\varepsilon$-coreset of $X_1 \\cup X_2$\n",
    "* compress: if $C$ is a $\\varepsilon$-coreset of $X$ and $C'$ is a $\\delta$-coreset of $C$, then $C'$ is a $(\\varepsilon+\\delta)$-coreset of $X$\n",
    "\n",
    "Let us see this is practice. Suppose the data is split between two worker machines. Each of them can construct its own coreset and send it to the master that can merge them."
   ]
  },
  {
   "cell_type": "code",
   "execution_count": 18,
   "metadata": {},
   "outputs": [],
   "source": [
    "np.random.seed(0)\n",
    "# n = 500\n",
    "# X, true_k, assignment = datagen.crp(n=n, alpha=7)\n",
    "coreset_size = 10\n",
    "X1, X2 = X[:n//2], X[n//2:]\n",
    "km_coreset_gen_1 = coresets.KMeansCoreset(X1)\n",
    "km_coreset_gen_2 = coresets.KMeansCoreset(X2)\n",
    "C1, w1 = km_coreset_gen_1.generate_coreset(coreset_size)\n",
    "C2, w2 = km_coreset_gen_2.generate_coreset(coreset_size)\n",
    "\n",
    "# merging is just stacking\n",
    "C, w = np.vstack([C1, C2]), np.hstack([w1, w2])\n",
    "\n",
    "# plotting\n",
    "# plt.figure(figsize=(12, 3))\n",
    "# plt.subplot(131)\n",
    "# plotting.plot_2d_points_and_coreset(X1, C1, w1)\n",
    "# plt.subplot(132)\n",
    "# plotting.plot_2d_points_and_coreset(X2, C2, w2)\n",
    "# plt.subplot(133)\n",
    "# plotting.plot_2d_points_and_coreset(X, C, w)"
   ]
  },
  {
   "cell_type": "code",
   "execution_count": 21,
   "metadata": {},
   "outputs": [
    {
     "name": "stdout",
     "output_type": "stream",
     "text": [
      "392287552.8535799\n"
     ]
    }
   ],
   "source": [
    "km.fit(C,w)\n",
    "y,dists = km.predict(X)\n",
    "print(np.sum(dists))"
   ]
  },
  {
   "cell_type": "markdown",
   "metadata": {},
   "source": [
    "The streaming setting is a bit trickier. We simulate it by reading points one by one. We are only allowed to store the coreset and an additional buffer, where we store the recent points. When the buffer is full, we merge it with our existing coreset and compress it (in order to keep the fixed size)."
   ]
  },
  {
   "cell_type": "code",
   "execution_count": 22,
   "metadata": {},
   "outputs": [],
   "source": [
    "np.random.seed(0)\n",
    "# n = 500\n",
    "# X, true_k, assignment = datagen.crp(n=n, alpha=7)\n",
    "coreset_size = 20\n",
    "buffer_size = 100\n",
    "buffer = []\n",
    "C, w = None, None\n",
    "for i, x in enumerate(X):\n",
    "    buffer.append(x)\n",
    "    if (i + 1) % buffer_size == 0:\n",
    "        \n",
    "        # merging\n",
    "        X = np.array(buffer) if C is None else np.vstack([C, np.array(buffer)])\n",
    "        weights = np.ones(buffer_size) if w is None else np.hstack([w, np.ones(buffer_size)])\n",
    "        \n",
    "        # compressing\n",
    "        coreset_gen = coresets.KMeansCoreset(X, weights)\n",
    "        C, w = coreset_gen.generate_coreset(coreset_size)\n",
    "        \n",
    "        # reset buffer\n",
    "        buffer = []\n",
    "# plotting.plot_2d_points_and_coreset(X, C, w)"
   ]
  },
  {
   "cell_type": "code",
   "execution_count": 23,
   "metadata": {},
   "outputs": [
    {
     "name": "stdout",
     "output_type": "stream",
     "text": [
      "300068489.36003643\n"
     ]
    }
   ],
   "source": [
    "km.fit(C,w)\n",
    "y,dists = km.predict(X)\n",
    "print(np.sum(dists))"
   ]
  },
  {
   "cell_type": "markdown",
   "metadata": {},
   "source": [
    "### Advanced Models\n",
    "\n",
    "Now we will look at using coresets with a more advanced, the Bayesian Gaussian mixture model. For a nice presentation of these methods have a look [here](http://scikit-learn.org/stable/modules/mixture.html#pros-and-cons-of-variational-inference-with-bayesiangaussianmixture). As it turns out, it supports the same coreset constructions as k-Means (for details see the references). Again, we start by generating our dataset."
   ]
  },
  {
   "cell_type": "code",
   "execution_count": 14,
   "metadata": {},
   "outputs": [
    {
     "data": {
      "image/png": "[encoded data removed]",
      "text/plain": [
       "<Figure size 432x288 with 1 Axes>"
      ]
     },
     "metadata": {
      "needs_background": "light"
     },
     "output_type": "display_data"
    }
   ],
   "source": [
    "# np.random.seed(0)\n",
    "# n = 5000\n",
    "# X, true_k, assignment = datagen.crp(n=n, alpha=5)\n",
    "# plotting.plot_2d_points_with_assignment(X, assignment)"
   ]
  },
  {
   "cell_type": "markdown",
   "metadata": {},
   "source": [
    "We generate again a coreset of size 1% of the original data and fit the model to it."
   ]
  },
  {
   "cell_type": "code",
   "execution_count": 30,
   "metadata": {},
   "outputs": [],
   "source": [
    "coreset_size = 50\n",
    "\n",
    "uniform_gen = coresets.KMeansUniformCoreset(X)\n",
    "C_u, w_u = uniform_gen.generate_coreset(coreset_size)\n",
    "\n",
    "coreset_gen = coresets.KMeansCoreset(X, n_clusters=10)\n",
    "C, w = coreset_gen.generate_coreset(coreset_size)\n",
    "\n",
    "# plt.figure(figsize=(15, 4))\n",
    "# for i, (data, weights, title) in enumerate([(C_u, w_u, \"Uniform\"), (C, w, \"Coreset\")]):\n",
    "#     plt.subplot(1, 2, i+1)\n",
    "#     plotting.plot_2d_points_and_coreset(X, data, weights)\n",
    "#     plt.title(title)"
   ]
  },
  {
   "cell_type": "code",
   "execution_count": 31,
   "metadata": {},
   "outputs": [
    {
     "ename": "ValueError",
     "evalue": "Fitting the mixture model failed because some components have ill-defined empirical covariance (for instance caused by singleton or collapsed samples). Try to decrease the number of components, or increase reg_covar.",
     "output_type": "error",
     "traceback": [
      "\u001b[1;31m---------------------------------------------------------------------------\u001b[0m",
      "\u001b[1;31mValueError\u001b[0m                                Traceback (most recent call last)",
      "\u001b[1;32m<ipython-input-31-6a8c4073bf74>\u001b[0m in \u001b[0;36m<module>\u001b[1;34m()\u001b[0m\n\u001b[0;32m      3\u001b[0m \u001b[1;32mfor\u001b[0m \u001b[0mi\u001b[0m\u001b[1;33m,\u001b[0m \u001b[1;33m(\u001b[0m\u001b[0mdata\u001b[0m\u001b[1;33m,\u001b[0m \u001b[0mweights\u001b[0m\u001b[1;33m,\u001b[0m \u001b[0mtitle\u001b[0m\u001b[1;33m)\u001b[0m \u001b[1;32min\u001b[0m \u001b[0menumerate\u001b[0m\u001b[1;33m(\u001b[0m\u001b[1;33m[\u001b[0m\u001b[1;33m(\u001b[0m\u001b[0mX\u001b[0m\u001b[1;33m,\u001b[0m \u001b[0mnp\u001b[0m\u001b[1;33m.\u001b[0m\u001b[0mones\u001b[0m\u001b[1;33m(\u001b[0m\u001b[0mX\u001b[0m\u001b[1;33m.\u001b[0m\u001b[0mshape\u001b[0m\u001b[1;33m[\u001b[0m\u001b[1;36m0\u001b[0m\u001b[1;33m]\u001b[0m\u001b[1;33m)\u001b[0m\u001b[1;33m,\u001b[0m \u001b[1;34m'Full data'\u001b[0m\u001b[1;33m)\u001b[0m\u001b[1;33m,\u001b[0m  \u001b[1;33m(\u001b[0m\u001b[0mC_u\u001b[0m\u001b[1;33m,\u001b[0m \u001b[0mw_u\u001b[0m\u001b[1;33m,\u001b[0m \u001b[1;34m'Uniform'\u001b[0m\u001b[1;33m)\u001b[0m\u001b[1;33m,\u001b[0m \u001b[1;33m(\u001b[0m\u001b[0mC\u001b[0m\u001b[1;33m,\u001b[0m \u001b[0mw\u001b[0m\u001b[1;33m,\u001b[0m \u001b[1;34m'Coreset'\u001b[0m\u001b[1;33m)\u001b[0m\u001b[1;33m]\u001b[0m\u001b[1;33m)\u001b[0m\u001b[1;33m:\u001b[0m\u001b[1;33m\u001b[0m\u001b[0m\n\u001b[0;32m      4\u001b[0m     \u001b[0mwbgm\u001b[0m \u001b[1;33m=\u001b[0m \u001b[0malgorithms\u001b[0m\u001b[1;33m.\u001b[0m\u001b[0mWeightedBayesianGaussianMixture\u001b[0m\u001b[1;33m(\u001b[0m\u001b[0mn_components\u001b[0m\u001b[1;33m=\u001b[0m\u001b[0mn_components\u001b[0m\u001b[1;33m,\u001b[0m \u001b[0mmax_iter\u001b[0m\u001b[1;33m=\u001b[0m\u001b[1;36m500\u001b[0m\u001b[1;33m,\u001b[0m \u001b[0mreg_covar\u001b[0m\u001b[1;33m=\u001b[0m\u001b[1;36m0\u001b[0m\u001b[1;33m,\u001b[0m \u001b[0minit_params\u001b[0m\u001b[1;33m=\u001b[0m\u001b[1;34m'kmeans'\u001b[0m\u001b[1;33m)\u001b[0m\u001b[1;33m\u001b[0m\u001b[0m\n\u001b[1;32m----> 5\u001b[1;33m     \u001b[0mwbgm\u001b[0m\u001b[1;33m.\u001b[0m\u001b[0mfit\u001b[0m\u001b[1;33m(\u001b[0m\u001b[0mdata\u001b[0m\u001b[1;33m,\u001b[0m \u001b[0mweights\u001b[0m\u001b[1;33m)\u001b[0m\u001b[1;33m\u001b[0m\u001b[0m\n\u001b[0m\u001b[0;32m      6\u001b[0m     \u001b[0max1\u001b[0m \u001b[1;33m=\u001b[0m \u001b[0mplt\u001b[0m\u001b[1;33m.\u001b[0m\u001b[0msubplot\u001b[0m\u001b[1;33m(\u001b[0m\u001b[1;36m1\u001b[0m\u001b[1;33m,\u001b[0m \u001b[1;36m3\u001b[0m\u001b[1;33m,\u001b[0m \u001b[0mi\u001b[0m\u001b[1;33m+\u001b[0m\u001b[1;36m1\u001b[0m\u001b[1;33m)\u001b[0m\u001b[1;33m\u001b[0m\u001b[0m\n\u001b[0;32m      7\u001b[0m     \u001b[0massignment\u001b[0m \u001b[1;33m=\u001b[0m \u001b[0mwbgm\u001b[0m\u001b[1;33m.\u001b[0m\u001b[0mpredict\u001b[0m\u001b[1;33m(\u001b[0m\u001b[0mX\u001b[0m\u001b[1;33m)\u001b[0m\u001b[1;33m\u001b[0m\u001b[0m\n",
      "\u001b[1;32m/home/vm2656/coresets/algorithms/wbgm.pyc\u001b[0m in \u001b[0;36mfit\u001b[1;34m(self, X, weights, y)\u001b[0m\n\u001b[0;32m     49\u001b[0m             \u001b[1;32mraise\u001b[0m \u001b[0mValueError\u001b[0m\u001b[1;33m(\u001b[0m\u001b[1;34m\"The number of weights must match the number of data points.\"\u001b[0m\u001b[1;33m)\u001b[0m\u001b[1;33m\u001b[0m\u001b[0m\n\u001b[0;32m     50\u001b[0m         \u001b[0mself\u001b[0m\u001b[1;33m.\u001b[0m\u001b[0mweights\u001b[0m \u001b[1;33m=\u001b[0m \u001b[0mweights\u001b[0m\u001b[1;33m\u001b[0m\u001b[0m\n\u001b[1;32m---> 51\u001b[1;33m         \u001b[0msuper\u001b[0m\u001b[1;33m(\u001b[0m\u001b[0mWeightedBayesianGaussianMixture\u001b[0m\u001b[1;33m,\u001b[0m \u001b[0mself\u001b[0m\u001b[1;33m)\u001b[0m\u001b[1;33m.\u001b[0m\u001b[0mfit\u001b[0m\u001b[1;33m(\u001b[0m\u001b[0mX\u001b[0m\u001b[1;33m,\u001b[0m \u001b[0my\u001b[0m\u001b[1;33m)\u001b[0m\u001b[1;33m\u001b[0m\u001b[0m\n\u001b[0m\u001b[0;32m     52\u001b[0m \u001b[1;33m\u001b[0m\u001b[0m\n\u001b[0;32m     53\u001b[0m     \u001b[1;32mdef\u001b[0m \u001b[0m_e_step\u001b[0m\u001b[1;33m(\u001b[0m\u001b[0mself\u001b[0m\u001b[1;33m,\u001b[0m \u001b[0mX\u001b[0m\u001b[1;33m)\u001b[0m\u001b[1;33m:\u001b[0m\u001b[1;33m\u001b[0m\u001b[0m\n",
      "\u001b[1;32m/opt/conda/envs/kmc/lib/python2.7/site-packages/sklearn/mixture/base.pyc\u001b[0m in \u001b[0;36mfit\u001b[1;34m(self, X, y)\u001b[0m\n\u001b[0;32m    192\u001b[0m         \u001b[0mself\u001b[0m\u001b[1;33m\u001b[0m\u001b[0m\n\u001b[0;32m    193\u001b[0m         \"\"\"\n\u001b[1;32m--> 194\u001b[1;33m         \u001b[0mself\u001b[0m\u001b[1;33m.\u001b[0m\u001b[0mfit_predict\u001b[0m\u001b[1;33m(\u001b[0m\u001b[0mX\u001b[0m\u001b[1;33m,\u001b[0m \u001b[0my\u001b[0m\u001b[1;33m)\u001b[0m\u001b[1;33m\u001b[0m\u001b[0m\n\u001b[0m\u001b[0;32m    195\u001b[0m         \u001b[1;32mreturn\u001b[0m \u001b[0mself\u001b[0m\u001b[1;33m\u001b[0m\u001b[0m\n\u001b[0;32m    196\u001b[0m \u001b[1;33m\u001b[0m\u001b[0m\n",
      "\u001b[1;32m/opt/conda/envs/kmc/lib/python2.7/site-packages/sklearn/mixture/base.pyc\u001b[0m in \u001b[0;36mfit_predict\u001b[1;34m(self, X, y)\u001b[0m\n\u001b[0;32m    235\u001b[0m \u001b[1;33m\u001b[0m\u001b[0m\n\u001b[0;32m    236\u001b[0m             \u001b[1;32mif\u001b[0m \u001b[0mdo_init\u001b[0m\u001b[1;33m:\u001b[0m\u001b[1;33m\u001b[0m\u001b[0m\n\u001b[1;32m--> 237\u001b[1;33m                 \u001b[0mself\u001b[0m\u001b[1;33m.\u001b[0m\u001b[0m_initialize_parameters\u001b[0m\u001b[1;33m(\u001b[0m\u001b[0mX\u001b[0m\u001b[1;33m,\u001b[0m \u001b[0mrandom_state\u001b[0m\u001b[1;33m)\u001b[0m\u001b[1;33m\u001b[0m\u001b[0m\n\u001b[0m\u001b[0;32m    238\u001b[0m \u001b[1;33m\u001b[0m\u001b[0m\n\u001b[0;32m    239\u001b[0m             \u001b[0mlower_bound\u001b[0m \u001b[1;33m=\u001b[0m \u001b[1;33m(\u001b[0m\u001b[1;33m-\u001b[0m\u001b[0mnp\u001b[0m\u001b[1;33m.\u001b[0m\u001b[0minfty\u001b[0m \u001b[1;32mif\u001b[0m \u001b[0mdo_init\u001b[0m \u001b[1;32melse\u001b[0m \u001b[0mself\u001b[0m\u001b[1;33m.\u001b[0m\u001b[0mlower_bound_\u001b[0m\u001b[1;33m)\u001b[0m\u001b[1;33m\u001b[0m\u001b[0m\n",
      "\u001b[1;32m/opt/conda/envs/kmc/lib/python2.7/site-packages/sklearn/mixture/base.pyc\u001b[0m in \u001b[0;36m_initialize_parameters\u001b[1;34m(self, X, random_state)\u001b[0m\n\u001b[0;32m    156\u001b[0m                              % self.init_params)\n\u001b[0;32m    157\u001b[0m \u001b[1;33m\u001b[0m\u001b[0m\n\u001b[1;32m--> 158\u001b[1;33m         \u001b[0mself\u001b[0m\u001b[1;33m.\u001b[0m\u001b[0m_initialize\u001b[0m\u001b[1;33m(\u001b[0m\u001b[0mX\u001b[0m\u001b[1;33m,\u001b[0m \u001b[0mresp\u001b[0m\u001b[1;33m)\u001b[0m\u001b[1;33m\u001b[0m\u001b[0m\n\u001b[0m\u001b[0;32m    159\u001b[0m \u001b[1;33m\u001b[0m\u001b[0m\n\u001b[0;32m    160\u001b[0m     \u001b[1;33m@\u001b[0m\u001b[0mabstractmethod\u001b[0m\u001b[1;33m\u001b[0m\u001b[0m\n",
      "\u001b[1;32m/home/vm2656/coresets/algorithms/wbgm.pyc\u001b[0m in \u001b[0;36m_initialize\u001b[1;34m(self, X, resp)\u001b[0m\n\u001b[0;32m     41\u001b[0m         \u001b[0mself\u001b[0m\u001b[1;33m.\u001b[0m\u001b[0mlog_weight_mat\u001b[0m \u001b[1;33m=\u001b[0m \u001b[0mnp\u001b[0m\u001b[1;33m.\u001b[0m\u001b[0mlog\u001b[0m\u001b[1;33m(\u001b[0m\u001b[0mself\u001b[0m\u001b[1;33m.\u001b[0m\u001b[0mweight_mat\u001b[0m\u001b[1;33m)\u001b[0m\u001b[1;33m\u001b[0m\u001b[0m\n\u001b[0;32m     42\u001b[0m         \u001b[0mresp_w\u001b[0m \u001b[1;33m=\u001b[0m \u001b[0mresp\u001b[0m \u001b[1;33m*\u001b[0m \u001b[0mself\u001b[0m\u001b[1;33m.\u001b[0m\u001b[0mweight_mat\u001b[0m\u001b[1;33m\u001b[0m\u001b[0m\n\u001b[1;32m---> 43\u001b[1;33m         \u001b[0msuper\u001b[0m\u001b[1;33m(\u001b[0m\u001b[0mWeightedBayesianGaussianMixture\u001b[0m\u001b[1;33m,\u001b[0m \u001b[0mself\u001b[0m\u001b[1;33m)\u001b[0m\u001b[1;33m.\u001b[0m\u001b[0m_initialize\u001b[0m\u001b[1;33m(\u001b[0m\u001b[0mX\u001b[0m\u001b[1;33m,\u001b[0m \u001b[0mresp_w\u001b[0m\u001b[1;33m)\u001b[0m\u001b[1;33m\u001b[0m\u001b[0m\n\u001b[0m\u001b[0;32m     44\u001b[0m \u001b[1;33m\u001b[0m\u001b[0m\n\u001b[0;32m     45\u001b[0m     \u001b[1;32mdef\u001b[0m \u001b[0mfit\u001b[0m\u001b[1;33m(\u001b[0m\u001b[0mself\u001b[0m\u001b[1;33m,\u001b[0m \u001b[0mX\u001b[0m\u001b[1;33m,\u001b[0m \u001b[0mweights\u001b[0m\u001b[1;33m=\u001b[0m\u001b[0mNone\u001b[0m\u001b[1;33m,\u001b[0m \u001b[0my\u001b[0m\u001b[1;33m=\u001b[0m\u001b[0mNone\u001b[0m\u001b[1;33m)\u001b[0m\u001b[1;33m:\u001b[0m\u001b[1;33m\u001b[0m\u001b[0m\n",
      "\u001b[1;32m/opt/conda/envs/kmc/lib/python2.7/site-packages/sklearn/mixture/bayesian_mixture.pyc\u001b[0m in \u001b[0;36m_initialize\u001b[1;34m(self, X, resp)\u001b[0m\n\u001b[0;32m    466\u001b[0m         \u001b[0mself\u001b[0m\u001b[1;33m.\u001b[0m\u001b[0m_estimate_weights\u001b[0m\u001b[1;33m(\u001b[0m\u001b[0mnk\u001b[0m\u001b[1;33m)\u001b[0m\u001b[1;33m\u001b[0m\u001b[0m\n\u001b[0;32m    467\u001b[0m         \u001b[0mself\u001b[0m\u001b[1;33m.\u001b[0m\u001b[0m_estimate_means\u001b[0m\u001b[1;33m(\u001b[0m\u001b[0mnk\u001b[0m\u001b[1;33m,\u001b[0m \u001b[0mxk\u001b[0m\u001b[1;33m)\u001b[0m\u001b[1;33m\u001b[0m\u001b[0m\n\u001b[1;32m--> 468\u001b[1;33m         \u001b[0mself\u001b[0m\u001b[1;33m.\u001b[0m\u001b[0m_estimate_precisions\u001b[0m\u001b[1;33m(\u001b[0m\u001b[0mnk\u001b[0m\u001b[1;33m,\u001b[0m \u001b[0mxk\u001b[0m\u001b[1;33m,\u001b[0m \u001b[0msk\u001b[0m\u001b[1;33m)\u001b[0m\u001b[1;33m\u001b[0m\u001b[0m\n\u001b[0m\u001b[0;32m    469\u001b[0m \u001b[1;33m\u001b[0m\u001b[0m\n\u001b[0;32m    470\u001b[0m     \u001b[1;32mdef\u001b[0m \u001b[0m_estimate_weights\u001b[0m\u001b[1;33m(\u001b[0m\u001b[0mself\u001b[0m\u001b[1;33m,\u001b[0m \u001b[0mnk\u001b[0m\u001b[1;33m)\u001b[0m\u001b[1;33m:\u001b[0m\u001b[1;33m\u001b[0m\u001b[0m\n",
      "\u001b[1;32m/opt/conda/envs/kmc/lib/python2.7/site-packages/sklearn/mixture/bayesian_mixture.pyc\u001b[0m in \u001b[0;36m_estimate_precisions\u001b[1;34m(self, nk, xk, sk)\u001b[0m\n\u001b[0;32m    523\u001b[0m \u001b[1;33m\u001b[0m\u001b[0m\n\u001b[0;32m    524\u001b[0m         self.precisions_cholesky_ = _compute_precision_cholesky(\n\u001b[1;32m--> 525\u001b[1;33m             self.covariances_, self.covariance_type)\n\u001b[0m\u001b[0;32m    526\u001b[0m \u001b[1;33m\u001b[0m\u001b[0m\n\u001b[0;32m    527\u001b[0m     \u001b[1;32mdef\u001b[0m \u001b[0m_estimate_wishart_full\u001b[0m\u001b[1;33m(\u001b[0m\u001b[0mself\u001b[0m\u001b[1;33m,\u001b[0m \u001b[0mnk\u001b[0m\u001b[1;33m,\u001b[0m \u001b[0mxk\u001b[0m\u001b[1;33m,\u001b[0m \u001b[0msk\u001b[0m\u001b[1;33m)\u001b[0m\u001b[1;33m:\u001b[0m\u001b[1;33m\u001b[0m\u001b[0m\n",
      "\u001b[1;32m/opt/conda/envs/kmc/lib/python2.7/site-packages/sklearn/mixture/gaussian_mixture.pyc\u001b[0m in \u001b[0;36m_compute_precision_cholesky\u001b[1;34m(covariances, covariance_type)\u001b[0m\n\u001b[0;32m    318\u001b[0m                 \u001b[0mcov_chol\u001b[0m \u001b[1;33m=\u001b[0m \u001b[0mlinalg\u001b[0m\u001b[1;33m.\u001b[0m\u001b[0mcholesky\u001b[0m\u001b[1;33m(\u001b[0m\u001b[0mcovariance\u001b[0m\u001b[1;33m,\u001b[0m \u001b[0mlower\u001b[0m\u001b[1;33m=\u001b[0m\u001b[0mTrue\u001b[0m\u001b[1;33m)\u001b[0m\u001b[1;33m\u001b[0m\u001b[0m\n\u001b[0;32m    319\u001b[0m             \u001b[1;32mexcept\u001b[0m \u001b[0mlinalg\u001b[0m\u001b[1;33m.\u001b[0m\u001b[0mLinAlgError\u001b[0m\u001b[1;33m:\u001b[0m\u001b[1;33m\u001b[0m\u001b[0m\n\u001b[1;32m--> 320\u001b[1;33m                 \u001b[1;32mraise\u001b[0m \u001b[0mValueError\u001b[0m\u001b[1;33m(\u001b[0m\u001b[0mestimate_precision_error_message\u001b[0m\u001b[1;33m)\u001b[0m\u001b[1;33m\u001b[0m\u001b[0m\n\u001b[0m\u001b[0;32m    321\u001b[0m             precisions_chol[k] = linalg.solve_triangular(cov_chol,\n\u001b[0;32m    322\u001b[0m                                                          \u001b[0mnp\u001b[0m\u001b[1;33m.\u001b[0m\u001b[0meye\u001b[0m\u001b[1;33m(\u001b[0m\u001b[0mn_features\u001b[0m\u001b[1;33m)\u001b[0m\u001b[1;33m,\u001b[0m\u001b[1;33m\u001b[0m\u001b[0m\n",
      "\u001b[1;31mValueError\u001b[0m: Fitting the mixture model failed because some components have ill-defined empirical covariance (for instance caused by singleton or collapsed samples). Try to decrease the number of components, or increase reg_covar."
     ]
    }
   ],
   "source": [
    "n_components = 10\n",
    "# plt.figure(figsize=(17, 4))\n",
    "for i, (data, weights, title) in enumerate([(X, np.ones(X.shape[0]), 'Full data'),  (C_u, w_u, 'Uniform'), (C, w, 'Coreset')]):\n",
    "    wbgm = algorithms.WeightedBayesianGaussianMixture(n_components=n_components, max_iter=500, reg_covar=0, init_params='kmeans')\n",
    "    wbgm.fit(data, weights)\n",
    "    ax1 = plt.subplot(1, 3, i+1)\n",
    "    assignment = wbgm.predict(X)\n",
    "    plotting.plot_2d_points_with_assignment(X, assignment)\n",
    "    plotting.plot_ellipses(ax1, wbgm.weights_, wbgm.means_, wbgm.covariances_)\n",
    "    plt.title(\"BGMM on {}\".format(title))"
   ]
  },
  {
   "cell_type": "markdown",
   "metadata": {},
   "source": [
    "As in the case of k-Means, we can observe the benefit of coresets. Since more diverse mixture components are discovered with coresets, it allows for better posterior approximation."
   ]
  }
 ],
 "metadata": {
  "kernelspec": {
   "display_name": "Python 3",
   "language": "python",
   "name": "python3"
  },
  "language_info": {
   "codemirror_mode": {
    "name": "ipython",
    "version": 3
   },
   "file_extension": ".py",
   "mimetype": "text/x-python",
   "name": "python",
   "nbconvert_exporter": "python",
   "pygments_lexer": "ipython3",
   "version": "3.7.12"
  }
 },
 "nbformat": 4,
 "nbformat_minor": 4
}
